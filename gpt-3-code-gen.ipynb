{
 "metadata": {
  "language_info": {
   "codemirror_mode": {
    "name": "ipython",
    "version": 3
   },
   "file_extension": ".py",
   "mimetype": "text/x-python",
   "name": "python",
   "nbconvert_exporter": "python",
   "pygments_lexer": "ipython3",
   "version": "3.8.2"
  },
  "orig_nbformat": 2,
  "kernelspec": {
   "name": "python382jvsc74a57bd0411b665cfd309e483a7d05215b8b47b9edaa6fc4acdfd83c92dd5d179fee1ea6",
   "display_name": "Python 3.8.2 64-bit ('3.8.2': pyenv)"
  }
 },
 "nbformat": 4,
 "nbformat_minor": 2,
 "cells": [
  {
   "source": [
    "# Code Generation with GPT-3"
   ],
   "cell_type": "markdown",
   "metadata": {}
  },
  {
   "source": [
    "## Imports and Globals"
   ],
   "cell_type": "markdown",
   "metadata": {}
  },
  {
   "source": [
    "To run this notebook please install the [OpenAI Python library](https://github.com/openai/openai-python). To install the package run ```pip install --upgrade openai```. "
   ],
   "cell_type": "markdown",
   "metadata": {}
  },
  {
   "cell_type": "code",
   "execution_count": null,
   "metadata": {},
   "outputs": [],
   "source": [
    "import os\n",
    "import openai\n",
    "\n",
    "from IPython.core.display import display, HTML"
   ]
  },
  {
   "source": [
    "To concatenate examples of specifications and programs to a prompt for GPT-3 we introduce question token, end of question token (EOQ), answer token, and end of answer token (EOA)."
   ],
   "cell_type": "markdown",
   "metadata": {}
  },
  {
   "cell_type": "code",
   "execution_count": null,
   "metadata": {},
   "outputs": [],
   "source": [
    "QUESTION_TOKEN = \"Q: \"\n",
    "EOQ_TOKEN = \"\\n\"\n",
    "ANSWER_TOKEN = \"A: \"\n",
    "EOA_TOKEN = \"\\n\\n\""
   ]
  },
  {
   "source": [
    "## Authentication"
   ],
   "cell_type": "markdown",
   "metadata": {}
  },
  {
   "source": [
    "To authenticate please set the environment variable OPENAI_API_KEY to the API key that you received from OpenAI. More information on authentication can be found in the [OpenAI API docs](https://beta.openai.com/docs/api-reference/authentication)."
   ],
   "cell_type": "markdown",
   "metadata": {}
  },
  {
   "source": [
    "openai.api_key = os.getenv(\"OPENAI_API_KEY\")"
   ],
   "cell_type": "code",
   "metadata": {},
   "execution_count": null,
   "outputs": []
  },
  {
   "source": [
    "## Data Processing"
   ],
   "cell_type": "markdown",
   "metadata": {}
  },
  {
   "source": [
    "The following functions load the examples from the data directory and concatenate them to a single string."
   ],
   "cell_type": "markdown",
   "metadata": {}
  },
  {
   "cell_type": "code",
   "execution_count": null,
   "metadata": {},
   "outputs": [],
   "source": [
    "def get_examples(language : str = \"python\", instances : list = None):\n",
    "    \"\"\"loads the examples from the data directory for a specific language\n",
    "    \n",
    "        Args:\n",
    "            language: either html, python, or shell\n",
    "            instances: specifies the examples, if None all examples for that language are loaded\n",
    "\n",
    "        Returns:\n",
    "            a list of specification-program pairs\n",
    "\n",
    "        Raises:\n",
    "            ValueError: if language is not html, python, or shell\n",
    "    \"\"\"\n",
    "    if language == \"html\":\n",
    "        filename = \"document.html\"\n",
    "    elif language == \"python\":\n",
    "        filename = \"program.py\"\n",
    "    elif language == \"shell\":\n",
    "        filename = \"command.sh\"\n",
    "    else:\n",
    "        raise ValueError(f\"Unkown language {language}\")\n",
    "\n",
    "    examples = []\n",
    "    data_path = os.path.join(os.path.join(os.getcwd(), \"data\"), language)\n",
    "    for ex in os.listdir(data_path):\n",
    "        if instances and ex not in instances:\n",
    "            continue\n",
    "        ex_path = os.path.join(data_path, ex)\n",
    "\n",
    "        spec_path = os.path.join(ex_path, \"specification.txt\")\n",
    "        with open(spec_path, \"r\") as sf:\n",
    "            spec = sf.read().replace('\"', '\\\"')\n",
    "\n",
    "        prog_path = os.path.join(ex_path, filename)\n",
    "        with open(prog_path, \"r\") as pf:\n",
    "            prog = pf.read().replace('\"', '\\\"')\n",
    "\n",
    "        examples.append((spec, prog))\n",
    "\n",
    "    return examples\n"
   ]
  },
  {
   "cell_type": "code",
   "execution_count": null,
   "metadata": {},
   "outputs": [],
   "source": [
    "def get_prompt(examples : list):\n",
    "    \"\"\"concatenates specification-program pairs\n",
    "\n",
    "        Args:\n",
    "            examples: a list of specification-program pairs\n",
    "        \n",
    "        Returns:\n",
    "            a string of concatenated specification-program pairs\n",
    "    \"\"\"\n",
    "    prompt = \"\"\n",
    "    for spec, prog in examples:\n",
    "        prompt += QUESTION_TOKEN + spec + EOQ_TOKEN + ANSWER_TOKEN + prog + EOA_TOKEN\n",
    "    return prompt"
   ]
  },
  {
   "cell_type": "code",
   "execution_count": null,
   "metadata": {},
   "outputs": [],
   "source": [
    "#for debugging\n",
    "#get_prompt(get_examples(language=\"html\", instances=[\"traffic\"]))"
   ]
  },
  {
   "source": [
    "## HTML Code Generation"
   ],
   "cell_type": "markdown",
   "metadata": {}
  },
  {
   "source": [
    "In addtion to the examples we provide GPT-3 with the following context:"
   ],
   "cell_type": "markdown",
   "metadata": {}
  },
  {
   "cell_type": "code",
   "execution_count": null,
   "metadata": {},
   "outputs": [],
   "source": [
    "HTML_CONTEXT = \"We generate HTML documents from natural language descriptions.\\n\""
   ]
  },
  {
   "cell_type": "code",
   "execution_count": null,
   "metadata": {},
   "outputs": [],
   "source": [
    "def html_code_gen(spec : str):\n",
    "    \"\"\"calls GPT-3 with context, examples, and a new description\n",
    "\n",
    "        Args:\n",
    "            spec: a string that describes an HTML document\n",
    "\n",
    "        Returns:\n",
    "            GPT-3 prediction\n",
    "    \"\"\"\n",
    "    prompt = HTML_CONTEXT + get_prompt(get_examples(language=\"html\", instances=[\"button\", \"stopwatch\", \"traffic\"])) + QUESTION_TOKEN + spec\n",
    "    response = openai.Completion.create(\n",
    "        engine='davinci',\n",
    "        prompt = prompt,\n",
    "        temperature=0.1,\n",
    "        max_tokens=512,\n",
    "        top_p=0.5,\n",
    "        frequency_penalty=1,\n",
    "        presence_penalty=1,\n",
    "        stop=[EOA_TOKEN]\n",
    "    )\n",
    "    prediction = response[\"choices\"][0][\"text\"]\n",
    "    return prediction.partition(\"A:\")[2]"
   ]
  },
  {
   "source": [
    "Let's try it out!"
   ],
   "cell_type": "markdown",
   "metadata": {}
  },
  {
   "cell_type": "code",
   "execution_count": null,
   "metadata": {},
   "outputs": [],
   "source": [
    "prediction = html_code_gen(\"form to submit name, address, and phone\")\n",
    "prediction"
   ]
  },
  {
   "cell_type": "code",
   "execution_count": null,
   "metadata": {},
   "outputs": [],
   "source": [
    "prediction = html_code_gen(\"table with the highest-grossing films of all time\")\n",
    "prediction"
   ]
  },
  {
   "cell_type": "code",
   "execution_count": null,
   "metadata": {},
   "outputs": [],
   "source": [
    "prediction = html_code_gen(\"button that randomly changes its position when clicked\")\n",
    "prediction"
   ]
  },
  {
   "source": [
    "Let's try to render the prediction!"
   ],
   "cell_type": "markdown",
   "metadata": {}
  },
  {
   "cell_type": "code",
   "execution_count": null,
   "metadata": {},
   "outputs": [],
   "source": [
    "display(HTML(prediction))"
   ]
  },
  {
   "source": [
    "## Python Code Generation"
   ],
   "cell_type": "markdown",
   "metadata": {}
  },
  {
   "cell_type": "code",
   "execution_count": null,
   "metadata": {},
   "outputs": [],
   "source": [
    "PYTHON_CONTEXT = \"We generate Python programs that implement a natural language specification.\\n\""
   ]
  },
  {
   "cell_type": "code",
   "execution_count": null,
   "metadata": {},
   "outputs": [],
   "source": [
    "def python_code_gen(spec : str):\n",
    "    \"\"\"calls GPT-3 with context, examples, and a new specification\n",
    "\n",
    "        Args:\n",
    "            spec: a string that describes the Python program\n",
    "\n",
    "        Returns:\n",
    "            GPT-3 code prediction\n",
    "    \"\"\"\n",
    "    prompt = PYTHON_CONTEXT + get_prompt(get_examples(language=\"python\", instances=[\"fibonacci\", \"sin\", \"tensorflow\"])) + QUESTION_TOKEN + spec\n",
    "    response = openai.Completion.create(\n",
    "        engine='davinci',\n",
    "        prompt = prompt,\n",
    "        temperature=0.1,\n",
    "        max_tokens=512,\n",
    "        top_p=0.5,\n",
    "        frequency_penalty=1,\n",
    "        presence_penalty=1,\n",
    "        stop=[EOA_TOKEN]\n",
    "    )\n",
    "    prediction = response[\"choices\"][0][\"text\"]\n",
    "    return prediction.partition(\"A:\")[2]"
   ]
  },
  {
   "cell_type": "code",
   "execution_count": null,
   "metadata": {},
   "outputs": [],
   "source": [
    "python_code_gen(\"convert fahrenheit to celsius\")"
   ]
  },
  {
   "cell_type": "code",
   "execution_count": null,
   "metadata": {},
   "outputs": [],
   "source": [
    "python_code_gen(\"check if an integer is prime\")"
   ]
  },
  {
   "cell_type": "code",
   "execution_count": null,
   "metadata": {},
   "outputs": [],
   "source": [
    "python_code_gen(\"transpose a csv file\")"
   ]
  },
  {
   "source": [
    "## Shell Command Generation"
   ],
   "cell_type": "markdown",
   "metadata": {}
  },
  {
   "cell_type": "code",
   "execution_count": null,
   "metadata": {},
   "outputs": [],
   "source": [
    "SHELL_CONTEXT = \"We generate Shell commands given a natural language description.\\n\""
   ]
  },
  {
   "cell_type": "code",
   "execution_count": null,
   "metadata": {},
   "outputs": [],
   "source": [
    "def shell_cmd_gen(spec : str):\n",
    "    \"\"\"calls GPT-3 with context, examples, and a new description\n",
    "\n",
    "        Args:\n",
    "            a string that describes the shell command\n",
    "\n",
    "        Returns:\n",
    "            GPT-3 command prediction\n",
    "    \"\"\"\n",
    "    prompt = SHELL_CONTEXT + get_prompt(get_examples(language=\"shell\", instances=[\"cipher\", \"count\", \"move\"])) + QUESTION_TOKEN + spec\n",
    "    response = openai.Completion.create(\n",
    "        engine='davinci',\n",
    "        prompt = prompt,\n",
    "        temperature=0.1,\n",
    "        max_tokens=128,\n",
    "        top_p=0.5,\n",
    "        frequency_penalty=1,\n",
    "        presence_penalty=1,\n",
    "        stop=[EOA_TOKEN]\n",
    "    )\n",
    "    prediction = response[\"choices\"][0][\"text\"]\n",
    "    return prediction.partition(\"A:\")[2]"
   ]
  },
  {
   "cell_type": "code",
   "execution_count": null,
   "metadata": {},
   "outputs": [],
   "source": [
    "shell_cmd_gen(\"remove all files in directory /tmp that were created or modified today\")"
   ]
  },
  {
   "cell_type": "code",
   "execution_count": null,
   "metadata": {},
   "outputs": [],
   "source": [
    "shell_cmd_gen(\"make script.py executable\")"
   ]
  },
  {
   "cell_type": "code",
   "execution_count": null,
   "metadata": {},
   "outputs": [],
   "source": [
    "shell_cmd_gen(\"extract the text of document.pdf to output.txt\")"
   ]
  },
  {
   "source": [],
   "cell_type": "markdown",
   "metadata": {}
  }
 ]
}