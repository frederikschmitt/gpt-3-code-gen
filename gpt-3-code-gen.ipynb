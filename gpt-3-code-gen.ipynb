{
 "metadata": {
  "language_info": {
   "codemirror_mode": {
    "name": "ipython",
    "version": 3
   },
   "file_extension": ".py",
   "mimetype": "text/x-python",
   "name": "python",
   "nbconvert_exporter": "python",
   "pygments_lexer": "ipython3",
   "version": "3.8.2"
  },
  "orig_nbformat": 2,
  "kernelspec": {
   "name": "python382jvsc74a57bd0411b665cfd309e483a7d05215b8b47b9edaa6fc4acdfd83c92dd5d179fee1ea6",
   "display_name": "Python 3.8.2 64-bit ('3.8.2': pyenv)"
  }
 },
 "nbformat": 4,
 "nbformat_minor": 2,
 "cells": [
  {
   "source": [
    "# Code Generation with GPT-3"
   ],
   "cell_type": "markdown",
   "metadata": {}
  },
  {
   "source": [
    "## Imports and Globals"
   ],
   "cell_type": "markdown",
   "metadata": {}
  },
  {
   "cell_type": "code",
   "execution_count": null,
   "metadata": {},
   "outputs": [],
   "source": [
    "import os\n",
    "import openai"
   ]
  },
  {
   "cell_type": "code",
   "execution_count": null,
   "metadata": {},
   "outputs": [],
   "source": [
    "QUESTION_TOKEN = \"Q: \"\n",
    "EOQ_TOKEN = \"\\n\"\n",
    "ANSWER_TOKEN = \"A: \"\n",
    "EOA_TOKEN = \"\\n\\n\""
   ]
  },
  {
   "source": [
    "## Authentication"
   ],
   "cell_type": "markdown",
   "metadata": {}
  },
  {
   "cell_type": "code",
   "execution_count": null,
   "metadata": {},
   "outputs": [],
   "source": [
    "openai.api_key = os.getenv(\"OPENAI_API_KEY\")"
   ]
  },
  {
   "source": [
    "## Data Processing"
   ],
   "cell_type": "markdown",
   "metadata": {}
  },
  {
   "cell_type": "code",
   "execution_count": null,
   "metadata": {},
   "outputs": [],
   "source": [
    "def get_examples(language=\"python\", filter=None):\n",
    "    \n",
    "    if language == \"python\":\n",
    "        filename = \"program.py\"\n",
    "    elif language == \"shell\":\n",
    "        filename = \"command.sh\"\n",
    "    else:\n",
    "        raise(f\"Unkown language {language}\")\n",
    "\n",
    "    examples = []\n",
    "    data_path = os.path.join(os.path.join(os.getcwd(), \"data\"), language)\n",
    "    for ex in os.listdir(data_path):\n",
    "        if filter and ex not in filter:\n",
    "            continue\n",
    "        ex_path = os.path.join(data_path, ex)\n",
    "\n",
    "        spec_path = os.path.join(ex_path, \"specification.txt\")\n",
    "        with open(spec_path, \"r\") as sf:\n",
    "            spec = sf.read().replace('\"', '\\\"')\n",
    "\n",
    "        prog_path = os.path.join(ex_path, filename)\n",
    "        with open(prog_path, \"r\") as pf:\n",
    "            prog = pf.read().replace('\"', '\\\"')\n",
    "\n",
    "        examples.append((spec, prog))\n",
    "\n",
    "    return examples\n"
   ]
  },
  {
   "cell_type": "code",
   "execution_count": null,
   "metadata": {},
   "outputs": [],
   "source": [
    "def get_prompt(examples):\n",
    "    prompt = \"\"\n",
    "    for spec, prog in examples:\n",
    "        prompt += QUESTION_TOKEN + spec + EOQ_TOKEN + ANSWER_TOKEN + prog + EOA_TOKEN\n",
    "    return prompt"
   ]
  },
  {
   "cell_type": "code",
   "execution_count": null,
   "metadata": {},
   "outputs": [],
   "source": [
    "get_prompt(get_examples(language=\"shell\"))"
   ]
  },
  {
   "source": [
    "## Shell Command Generation"
   ],
   "cell_type": "markdown",
   "metadata": {}
  },
  {
   "cell_type": "code",
   "execution_count": null,
   "metadata": {},
   "outputs": [],
   "source": [
    "SHELL_CONTEXT = \"Shell commands that execute the description.\\n\""
   ]
  },
  {
   "cell_type": "code",
   "execution_count": null,
   "metadata": {},
   "outputs": [],
   "source": [
    "def shell_cmd_gen(spec):\n",
    "    prompt = SHELL_CONTEXT + get_prompt(get_examples(language=\"shell\")) + QUESTION_TOKEN + spec\n",
    "    response = openai.Completion.create(\n",
    "        engine='davinci',\n",
    "        prompt = prompt,\n",
    "        temperature=0.1,\n",
    "        max_tokens=128,\n",
    "        top_p=0.5,\n",
    "        frequency_penalty=1,\n",
    "        presence_penalty=1,\n",
    "        stop=[EOA_TOKEN]\n",
    "    )\n",
    "    prediction = respone[\"choices\"][0][\"text\"]\n",
    "    return prediction.partition(\"A:\")[2]"
   ]
  },
  {
   "cell_type": "code",
   "execution_count": null,
   "metadata": {},
   "outputs": [],
   "source": [
    "shell_cmd_gen(\"remove all files in directory /tmp that were created or modified today\")"
   ]
  },
  {
   "source": [
    "## Python Code Generation"
   ],
   "cell_type": "markdown",
   "metadata": {}
  },
  {
   "cell_type": "code",
   "execution_count": null,
   "metadata": {},
   "outputs": [],
   "source": [
    "PYTHON_CONTEXT = \"Python programs that implement the specification.\\n\""
   ]
  },
  {
   "cell_type": "code",
   "execution_count": null,
   "metadata": {},
   "outputs": [],
   "source": [
    "def python_code_gen(spec):\n",
    "    prompt = PYTHON_CONTEXT + get_prompt(get_examples(language=\"python\")) + QUESTION_TOKEN + spec\n",
    "    response = openai.Completion.create(\n",
    "        engine='davinci',\n",
    "        prompt = prompt,\n",
    "        temperature=0.1,\n",
    "        max_tokens=512,\n",
    "        top_p=0.5,\n",
    "        frequency_penalty=1,\n",
    "        presence_penalty=1,\n",
    "        stop=[EOA_TOKEN]\n",
    "    )\n",
    "    prediction = respone[\"choices\"][0][\"text\"]\n",
    "    return prediction.partition(\"A:\")[2]\n",
    "    "
   ]
  },
  {
   "source": [],
   "cell_type": "markdown",
   "metadata": {}
  }
 ]
}